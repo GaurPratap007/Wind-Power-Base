{
  "nbformat": 4,
  "nbformat_minor": 0,
  "metadata": {
    "colab": {
      "name": "windspeedlstm.ipynb",
      "provenance": [],
      "collapsed_sections": []
    },
    "kernelspec": {
      "name": "python3",
      "display_name": "Python 3"
    },
    "accelerator": "GPU"
  },
  "cells": [
    {
      "cell_type": "code",
      "metadata": {
        "id": "TR1BMBXdxklc",
        "colab_type": "code",
        "colab": {}
      },
      "source": [
        "from pandas import DataFrame\n",
        "from pandas import Series\n",
        "from pandas import concat\n",
        "from pandas import read_csv\n",
        "from pandas import datetime\n",
        "from sklearn.metrics import mean_squared_error\n",
        "from sklearn.preprocessing import MinMaxScaler\n",
        "from keras.models import Sequential\n",
        "from keras.layers import Dense\n",
        "from keras.layers import LSTM\n",
        "from math import sqrt\n",
        "from matplotlib import pyplot\n",
        "import numpy as np\n",
        "import pandas as pd"
      ],
      "execution_count": null,
      "outputs": []
    },
    {
      "cell_type": "code",
      "metadata": {
        "id": "ZmEpq4Bi0PxJ",
        "colab_type": "code",
        "colab": {}
      },
      "source": [
        "window_size = 48\n",
        "batch_size_exp = 1\n",
        "epoch_exp = 7\n",
        "neurons_exp = 50\n",
        "predict_values_exp = 6000\n",
        "lag_exp=72"
      ],
      "execution_count": null,
      "outputs": []
    },
    {
      "cell_type": "code",
      "metadata": {
        "id": "v1tpmak40ToO",
        "colab_type": "code",
        "colab": {}
      },
      "source": [
        "def timeseries_to_supervised(data, lag=1):\n",
        "    df = DataFrame(data)\n",
        "    columns = [df.shift(i) for i in range(1, lag+1)]\n",
        "    columns.append(df)\n",
        "    df = concat(columns, axis=1)\n",
        "    df.fillna(0, inplace=True)\n",
        "    return df"
      ],
      "execution_count": null,
      "outputs": []
    },
    {
      "cell_type": "code",
      "metadata": {
        "id": "VTa67tPL0Vna",
        "colab_type": "code",
        "colab": {}
      },
      "source": [
        "\n",
        "def difference(dataset, interval=1):\n",
        "    diff = list()\n",
        "    for i in range(interval, len(dataset)):\n",
        "        value = dataset[i] - dataset[i - interval]\n",
        "        diff.append(value)\n",
        "    return Series(diff)"
      ],
      "execution_count": null,
      "outputs": []
    },
    {
      "cell_type": "code",
      "metadata": {
        "id": "kR-nqgUF0XnJ",
        "colab_type": "code",
        "colab": {}
      },
      "source": [
        "def inverse_difference(history, yhat, interval=1):\n",
        "    return yhat + history[-interval]"
      ],
      "execution_count": null,
      "outputs": []
    },
    {
      "cell_type": "code",
      "metadata": {
        "id": "gf01jkjT0YxQ",
        "colab_type": "code",
        "colab": {}
      },
      "source": [
        "def scale(data_norm):\n",
        "    scaler = MinMaxScaler(feature_range=(-1, 1))\n",
        "    scaler = scaler.fit(data_norm)\n",
        "    # transform train\n",
        "    data_norm = data_norm.reshape(data_norm.shape[0], data_norm.shape[1])\n",
        "    data_scaled = scaler.transform(data_norm)\n",
        "    return scaler, data_scaled\n"
      ],
      "execution_count": null,
      "outputs": []
    },
    {
      "cell_type": "code",
      "metadata": {
        "id": "IgxB68Ib0Z4h",
        "colab_type": "code",
        "colab": {}
      },
      "source": [
        "def invert_scale(scaler, X, value):\n",
        "    new_row = [x for x in X] + [value]\n",
        "    array = np.array(new_row)\n",
        "    array = array.reshape(1, len(array))\n",
        "    inverted = scaler.inverse_transform(array)\n",
        "    return inverted[0, -1]"
      ],
      "execution_count": null,
      "outputs": []
    },
    {
      "cell_type": "code",
      "metadata": {
        "id": "noSKvaT20bTF",
        "colab_type": "code",
        "colab": {}
      },
      "source": [
        "from keras.layers import Activation, Dense, BatchNormalization, TimeDistributed\n",
        "def fit_lstm(train, batch_size, nb_epoch, neurons):\n",
        "    X, y = train[:, 0:-1], train[:, -1]\n",
        "    X = X.reshape(X.shape[0], 1, X.shape[1])\n",
        "    model = Sequential()\n",
        "    model.add(LSTM(neurons_exp, dropout = 0.1 ,batch_input_shape=(batch_size, X.shape[1], X.shape[2]), stateful=True))\n",
        "    model.add(BatchNormalization())\n",
        "    model.add(Dense(50))\n",
        "    model.add(Activation('relu'))\n",
        "    model.add(Dense(50))\n",
        "    model.add(Activation('tanh'))\n",
        "    model.add(Dense(1))\n",
        "    model.compile(loss='mean_squared_error', optimizer='adam')\n",
        "    for i in range(nb_epoch):\n",
        "        model.fit(X, y, epochs=1, batch_size=batch_size, verbose=1, shuffle=False)\n",
        "        model.reset_states()\n",
        "    return model"
      ],
      "execution_count": null,
      "outputs": []
    },
    {
      "cell_type": "code",
      "metadata": {
        "id": "eqgYVxUX0dkg",
        "colab_type": "code",
        "colab": {}
      },
      "source": [
        "def forecast_lstm(model, batch_size, X):\n",
        "    X = X.reshape(1, 1, len(X))\n",
        "    #print(X)\n",
        "    yhat = model.predict(X, batch_size=1)\n",
        "    return yhat[0,0]\n"
      ],
      "execution_count": null,
      "outputs": []
    },
    {
      "cell_type": "code",
      "metadata": {
        "id": "knUxuHSJ0fWo",
        "colab_type": "code",
        "colab": {
          "base_uri": "https://localhost:8080/",
          "height": 235
        },
        "outputId": "d251f6e8-6dbe-4d12-8af6-77648566616f"
      },
      "source": [
        "import pandas as pd\n",
        "series = pd.read_csv('/content/drive/My Drive/T1.csv',index_col=\"Date/Time\")\n",
        "series.head()"
      ],
      "execution_count": null,
      "outputs": [
        {
          "output_type": "execute_result",
          "data": {
            "text/html": [
              "<div>\n",
              "<style scoped>\n",
              "    .dataframe tbody tr th:only-of-type {\n",
              "        vertical-align: middle;\n",
              "    }\n",
              "\n",
              "    .dataframe tbody tr th {\n",
              "        vertical-align: top;\n",
              "    }\n",
              "\n",
              "    .dataframe thead th {\n",
              "        text-align: right;\n",
              "    }\n",
              "</style>\n",
              "<table border=\"1\" class=\"dataframe\">\n",
              "  <thead>\n",
              "    <tr style=\"text-align: right;\">\n",
              "      <th></th>\n",
              "      <th>LV ActivePower (kW)</th>\n",
              "      <th>Wind Speed (m/s)</th>\n",
              "      <th>Theoretical_Power_Curve (KWh)</th>\n",
              "      <th>Wind Direction (°)</th>\n",
              "    </tr>\n",
              "    <tr>\n",
              "      <th>Date/Time</th>\n",
              "      <th></th>\n",
              "      <th></th>\n",
              "      <th></th>\n",
              "      <th></th>\n",
              "    </tr>\n",
              "  </thead>\n",
              "  <tbody>\n",
              "    <tr>\n",
              "      <th>01 01 2018 00:00</th>\n",
              "      <td>380.047791</td>\n",
              "      <td>5.311336</td>\n",
              "      <td>416.328908</td>\n",
              "      <td>259.994904</td>\n",
              "    </tr>\n",
              "    <tr>\n",
              "      <th>01 01 2018 00:10</th>\n",
              "      <td>453.769196</td>\n",
              "      <td>5.672167</td>\n",
              "      <td>519.917511</td>\n",
              "      <td>268.641113</td>\n",
              "    </tr>\n",
              "    <tr>\n",
              "      <th>01 01 2018 00:20</th>\n",
              "      <td>306.376587</td>\n",
              "      <td>5.216037</td>\n",
              "      <td>390.900016</td>\n",
              "      <td>272.564789</td>\n",
              "    </tr>\n",
              "    <tr>\n",
              "      <th>01 01 2018 00:30</th>\n",
              "      <td>419.645905</td>\n",
              "      <td>5.659674</td>\n",
              "      <td>516.127569</td>\n",
              "      <td>271.258087</td>\n",
              "    </tr>\n",
              "    <tr>\n",
              "      <th>01 01 2018 00:40</th>\n",
              "      <td>380.650696</td>\n",
              "      <td>5.577941</td>\n",
              "      <td>491.702972</td>\n",
              "      <td>265.674286</td>\n",
              "    </tr>\n",
              "  </tbody>\n",
              "</table>\n",
              "</div>"
            ],
            "text/plain": [
              "                  LV ActivePower (kW)  ...  Wind Direction (°)\n",
              "Date/Time                              ...                    \n",
              "01 01 2018 00:00           380.047791  ...          259.994904\n",
              "01 01 2018 00:10           453.769196  ...          268.641113\n",
              "01 01 2018 00:20           306.376587  ...          272.564789\n",
              "01 01 2018 00:30           419.645905  ...          271.258087\n",
              "01 01 2018 00:40           380.650696  ...          265.674286\n",
              "\n",
              "[5 rows x 4 columns]"
            ]
          },
          "metadata": {
            "tags": []
          },
          "execution_count": 25
        }
      ]
    },
    {
      "cell_type": "code",
      "metadata": {
        "id": "4WP9lE4I0leY",
        "colab_type": "code",
        "colab": {
          "base_uri": "https://localhost:8080/",
          "height": 235
        },
        "outputId": "37d854a2-c82a-413f-f353-37f79dfc2445"
      },
      "source": [
        "#del series['Air temperature | (\\'C)']\n",
        "del series['LV ActivePower (kW)']\n",
        "del series['Wind Direction (°)']\n",
        "del series['Theoretical_Power_Curve (KWh)']\n",
        "series.head()"
      ],
      "execution_count": null,
      "outputs": [
        {
          "output_type": "execute_result",
          "data": {
            "text/html": [
              "<div>\n",
              "<style scoped>\n",
              "    .dataframe tbody tr th:only-of-type {\n",
              "        vertical-align: middle;\n",
              "    }\n",
              "\n",
              "    .dataframe tbody tr th {\n",
              "        vertical-align: top;\n",
              "    }\n",
              "\n",
              "    .dataframe thead th {\n",
              "        text-align: right;\n",
              "    }\n",
              "</style>\n",
              "<table border=\"1\" class=\"dataframe\">\n",
              "  <thead>\n",
              "    <tr style=\"text-align: right;\">\n",
              "      <th></th>\n",
              "      <th>Wind Speed (m/s)</th>\n",
              "    </tr>\n",
              "    <tr>\n",
              "      <th>Date/Time</th>\n",
              "      <th></th>\n",
              "    </tr>\n",
              "  </thead>\n",
              "  <tbody>\n",
              "    <tr>\n",
              "      <th>01 01 2018 00:00</th>\n",
              "      <td>5.311336</td>\n",
              "    </tr>\n",
              "    <tr>\n",
              "      <th>01 01 2018 00:10</th>\n",
              "      <td>5.672167</td>\n",
              "    </tr>\n",
              "    <tr>\n",
              "      <th>01 01 2018 00:20</th>\n",
              "      <td>5.216037</td>\n",
              "    </tr>\n",
              "    <tr>\n",
              "      <th>01 01 2018 00:30</th>\n",
              "      <td>5.659674</td>\n",
              "    </tr>\n",
              "    <tr>\n",
              "      <th>01 01 2018 00:40</th>\n",
              "      <td>5.577941</td>\n",
              "    </tr>\n",
              "  </tbody>\n",
              "</table>\n",
              "</div>"
            ],
            "text/plain": [
              "                  Wind Speed (m/s)\n",
              "Date/Time                         \n",
              "01 01 2018 00:00          5.311336\n",
              "01 01 2018 00:10          5.672167\n",
              "01 01 2018 00:20          5.216037\n",
              "01 01 2018 00:30          5.659674\n",
              "01 01 2018 00:40          5.577941"
            ]
          },
          "metadata": {
            "tags": []
          },
          "execution_count": 26
        }
      ]
    },
    {
      "cell_type": "code",
      "metadata": {
        "id": "OXbEnc110qpi",
        "colab_type": "code",
        "colab": {
          "base_uri": "https://localhost:8080/",
          "height": 235
        },
        "outputId": "c04a5265-b71a-410f-b316-e02716a587e1"
      },
      "source": [
        "for i in range(0,10):\n",
        "  series = series[:-1]\n",
        "series.head()"
      ],
      "execution_count": null,
      "outputs": [
        {
          "output_type": "execute_result",
          "data": {
            "text/html": [
              "<div>\n",
              "<style scoped>\n",
              "    .dataframe tbody tr th:only-of-type {\n",
              "        vertical-align: middle;\n",
              "    }\n",
              "\n",
              "    .dataframe tbody tr th {\n",
              "        vertical-align: top;\n",
              "    }\n",
              "\n",
              "    .dataframe thead th {\n",
              "        text-align: right;\n",
              "    }\n",
              "</style>\n",
              "<table border=\"1\" class=\"dataframe\">\n",
              "  <thead>\n",
              "    <tr style=\"text-align: right;\">\n",
              "      <th></th>\n",
              "      <th>Wind Speed (m/s)</th>\n",
              "    </tr>\n",
              "    <tr>\n",
              "      <th>Date/Time</th>\n",
              "      <th></th>\n",
              "    </tr>\n",
              "  </thead>\n",
              "  <tbody>\n",
              "    <tr>\n",
              "      <th>01 01 2018 00:00</th>\n",
              "      <td>5.311336</td>\n",
              "    </tr>\n",
              "    <tr>\n",
              "      <th>01 01 2018 00:10</th>\n",
              "      <td>5.672167</td>\n",
              "    </tr>\n",
              "    <tr>\n",
              "      <th>01 01 2018 00:20</th>\n",
              "      <td>5.216037</td>\n",
              "    </tr>\n",
              "    <tr>\n",
              "      <th>01 01 2018 00:30</th>\n",
              "      <td>5.659674</td>\n",
              "    </tr>\n",
              "    <tr>\n",
              "      <th>01 01 2018 00:40</th>\n",
              "      <td>5.577941</td>\n",
              "    </tr>\n",
              "  </tbody>\n",
              "</table>\n",
              "</div>"
            ],
            "text/plain": [
              "                  Wind Speed (m/s)\n",
              "Date/Time                         \n",
              "01 01 2018 00:00          5.311336\n",
              "01 01 2018 00:10          5.672167\n",
              "01 01 2018 00:20          5.216037\n",
              "01 01 2018 00:30          5.659674\n",
              "01 01 2018 00:40          5.577941"
            ]
          },
          "metadata": {
            "tags": []
          },
          "execution_count": 27
        }
      ]
    },
    {
      "cell_type": "code",
      "metadata": {
        "id": "8qdNuBB60sN-",
        "colab_type": "code",
        "colab": {
          "base_uri": "https://localhost:8080/",
          "height": 34
        },
        "outputId": "00892d56-63da-4ddf-d068-77b4e60b4c35"
      },
      "source": [
        "series.shape"
      ],
      "execution_count": null,
      "outputs": [
        {
          "output_type": "execute_result",
          "data": {
            "text/plain": [
              "(50520, 1)"
            ]
          },
          "metadata": {
            "tags": []
          },
          "execution_count": 28
        }
      ]
    },
    {
      "cell_type": "code",
      "metadata": {
        "id": "ab5zigFI0uBr",
        "colab_type": "code",
        "colab": {}
      },
      "source": [
        "raw_values = series.values\n",
        "diff_values = difference(raw_values, 1)"
      ],
      "execution_count": null,
      "outputs": []
    },
    {
      "cell_type": "code",
      "metadata": {
        "id": "5pFnr9di0vRD",
        "colab_type": "code",
        "colab": {}
      },
      "source": [
        "# transform data to be supervised learning\n",
        "supervised = timeseries_to_supervised(diff_values, lag_exp)\n",
        "supervised_values = supervised.values"
      ],
      "execution_count": null,
      "outputs": []
    },
    {
      "cell_type": "code",
      "metadata": {
        "id": "7ypclNF50xHv",
        "colab_type": "code",
        "colab": {}
      },
      "source": [
        "\n",
        "\n",
        "# split data into train and test-sets\n",
        "scaler,supervised_values = scale(supervised_values)\n",
        "train_scaled, test_scaled = supervised_values[:], supervised_values[:]\n",
        "#print(test_scaled)"
      ],
      "execution_count": null,
      "outputs": []
    },
    {
      "cell_type": "code",
      "metadata": {
        "id": "mLsnGs0L0yaR",
        "colab_type": "code",
        "colab": {
          "base_uri": "https://localhost:8080/",
          "height": 255
        },
        "outputId": "ff8281b8-ba7d-471e-d99a-e88af36231d4"
      },
      "source": [
        "lstm_model = fit_lstm(train_scaled, batch_size_exp, epoch_exp, neurons_exp)\n"
      ],
      "execution_count": null,
      "outputs": [
        {
          "output_type": "stream",
          "text": [
            "Epoch 1/1\n",
            "50519/50519 [==============================] - 233s 5ms/step - loss: 0.0018\n",
            "Epoch 1/1\n",
            "50519/50519 [==============================] - 227s 4ms/step - loss: 0.0018\n",
            "Epoch 1/1\n",
            "50519/50519 [==============================] - 226s 4ms/step - loss: 0.0018\n",
            "Epoch 1/1\n",
            "50519/50519 [==============================] - 228s 5ms/step - loss: 0.0018\n",
            "Epoch 1/1\n",
            "50519/50519 [==============================] - 232s 5ms/step - loss: 0.0018\n",
            "Epoch 1/1\n",
            "50519/50519 [==============================] - 227s 4ms/step - loss: 0.0018\n",
            "Epoch 1/1\n",
            "50519/50519 [==============================] - 228s 5ms/step - loss: 0.0018\n"
          ],
          "name": "stdout"
        }
      ]
    },
    {
      "cell_type": "code",
      "metadata": {
        "id": "LzMU3Fg4003F",
        "colab_type": "code",
        "colab": {
          "base_uri": "https://localhost:8080/",
          "height": 765
        },
        "outputId": "17c77be0-5f91-4404-821d-4e8185c37693"
      },
      "source": [
        "                      # walk-forward validation on the test data\n",
        "predictions = list()\n",
        "expectations = list()\n",
        "for i in range(len(test_scaled)-window_size):\n",
        "    window_prediction_frame = test_scaled\n",
        "    test_pred = list()\n",
        "    for j in range(window_size):\n",
        "        X, y = window_prediction_frame[i, 0:-1], window_prediction_frame[i, -1]\n",
        "        yhat = forecast_lstm(lstm_model, 1, X)#batch_size_exp to 1\n",
        "        '''# Start Debug prints\n",
        "        print(\"X: %\", X)\n",
        "        print(\"yhat: %\", yhat)\n",
        "        # End Debug prints'''\n",
        "        # Replacing value in test scaled with the predicted value.\n",
        "        test_pred = [yhat] + test_pred \n",
        "        if len(test_pred) > lag_exp+1:\n",
        "            test_pred = test_pred[:-1]\n",
        "        if j+1<len(window_prediction_frame):\n",
        "            if j+1 > lag_exp+1:\n",
        "                window_prediction_frame[j+1] = test_pred\n",
        "            else:\n",
        "                window_prediction_frame[j+1] = np.concatenate((test_pred, window_prediction_frame[j+1, j+1:]),axis=0)\n",
        "\n",
        "    # invert scaling\n",
        "    yhat = invert_scale(scaler, X, yhat)\n",
        "    # invert differencing\n",
        "    yhat = inverse_difference(raw_values, yhat, len(test_scaled)+1-i)\n",
        "    # store forecast\n",
        "    expected = raw_values[len(train_scaled) + i + 1-50519- window_size]\n",
        "    predictions.append(yhat)\n",
        "    expectations.append(expected)\n",
        "    print('Hour=%d, Predicted=%f, Expected=%f' % (i+1, yhat, expected))\n"
      ],
      "execution_count": null,
      "outputs": [
        {
          "output_type": "stream",
          "text": [
            "Hour=1, Predicted=5.434281, Expected=4.172731\n",
            "Hour=2, Predicted=5.808715, Expected=4.502260\n",
            "Hour=3, Predicted=5.353614, Expected=5.285727\n",
            "Hour=4, Predicted=5.785985, Expected=5.882676\n",
            "Hour=5, Predicted=5.705380, Expected=5.832772\n",
            "Hour=6, Predicted=5.745386, Expected=6.083103\n",
            "Hour=7, Predicted=5.934482, Expected=5.896152\n",
            "Hour=8, Predicted=5.442682, Expected=5.456291\n",
            "Hour=9, Predicted=5.721771, Expected=6.039964\n",
            "Hour=10, Predicted=5.650670, Expected=7.657910\n",
            "Hour=11, Predicted=5.867223, Expected=8.315362\n",
            "Hour=12, Predicted=6.067144, Expected=8.209787\n",
            "Hour=13, Predicted=6.683746, Expected=8.624151\n",
            "Hour=14, Predicted=6.329822, Expected=7.930004\n",
            "Hour=15, Predicted=6.643192, Expected=5.749671\n",
            "Hour=16, Predicted=6.770531, Expected=4.824298\n",
            "Hour=17, Predicted=6.521158, Expected=4.591996\n",
            "Hour=18, Predicted=6.579197, Expected=4.792756\n",
            "Hour=19, Predicted=6.547534, Expected=4.478368\n",
            "Hour=20, Predicted=6.585147, Expected=4.600290\n",
            "Hour=21, Predicted=6.407479, Expected=4.505049\n",
            "Hour=22, Predicted=7.094451, Expected=4.502378\n",
            "Hour=23, Predicted=7.856683, Expected=4.556026\n"
          ],
          "name": "stdout"
        },
        {
          "output_type": "error",
          "ename": "KeyboardInterrupt",
          "evalue": "ignored",
          "traceback": [
            "\u001b[0;31m---------------------------------------------------------------------------\u001b[0m",
            "\u001b[0;31mKeyboardInterrupt\u001b[0m                         Traceback (most recent call last)",
            "\u001b[0;32m<ipython-input-87-aad138f87bd0>\u001b[0m in \u001b[0;36m<module>\u001b[0;34m()\u001b[0m\n\u001b[1;32m      7\u001b[0m     \u001b[0;32mfor\u001b[0m \u001b[0mj\u001b[0m \u001b[0;32min\u001b[0m \u001b[0mrange\u001b[0m\u001b[0;34m(\u001b[0m\u001b[0mwindow_size\u001b[0m\u001b[0;34m)\u001b[0m\u001b[0;34m:\u001b[0m\u001b[0;34m\u001b[0m\u001b[0;34m\u001b[0m\u001b[0m\n\u001b[1;32m      8\u001b[0m         \u001b[0mX\u001b[0m\u001b[0;34m,\u001b[0m \u001b[0my\u001b[0m \u001b[0;34m=\u001b[0m \u001b[0mwindow_prediction_frame\u001b[0m\u001b[0;34m[\u001b[0m\u001b[0mi\u001b[0m\u001b[0;34m,\u001b[0m \u001b[0;36m0\u001b[0m\u001b[0;34m:\u001b[0m\u001b[0;34m-\u001b[0m\u001b[0;36m1\u001b[0m\u001b[0;34m]\u001b[0m\u001b[0;34m,\u001b[0m \u001b[0mwindow_prediction_frame\u001b[0m\u001b[0;34m[\u001b[0m\u001b[0mi\u001b[0m\u001b[0;34m,\u001b[0m \u001b[0;34m-\u001b[0m\u001b[0;36m1\u001b[0m\u001b[0;34m]\u001b[0m\u001b[0;34m\u001b[0m\u001b[0;34m\u001b[0m\u001b[0m\n\u001b[0;32m----> 9\u001b[0;31m         \u001b[0myhat\u001b[0m \u001b[0;34m=\u001b[0m \u001b[0mforecast_lstm\u001b[0m\u001b[0;34m(\u001b[0m\u001b[0mlstm_model\u001b[0m\u001b[0;34m,\u001b[0m \u001b[0;36m1\u001b[0m\u001b[0;34m,\u001b[0m \u001b[0mX\u001b[0m\u001b[0;34m)\u001b[0m\u001b[0;31m#batch_size_exp to 1\u001b[0m\u001b[0;34m\u001b[0m\u001b[0;34m\u001b[0m\u001b[0m\n\u001b[0m\u001b[1;32m     10\u001b[0m         '''# Start Debug prints\n\u001b[1;32m     11\u001b[0m         \u001b[0mprint\u001b[0m\u001b[0;34m(\u001b[0m\u001b[0;34m\"X: %\"\u001b[0m\u001b[0;34m,\u001b[0m \u001b[0mX\u001b[0m\u001b[0;34m)\u001b[0m\u001b[0;34m\u001b[0m\u001b[0;34m\u001b[0m\u001b[0m\n",
            "\u001b[0;32m<ipython-input-24-d4522436fe95>\u001b[0m in \u001b[0;36mforecast_lstm\u001b[0;34m(model, batch_size, X)\u001b[0m\n\u001b[1;32m      2\u001b[0m     \u001b[0mX\u001b[0m \u001b[0;34m=\u001b[0m \u001b[0mX\u001b[0m\u001b[0;34m.\u001b[0m\u001b[0mreshape\u001b[0m\u001b[0;34m(\u001b[0m\u001b[0;36m1\u001b[0m\u001b[0;34m,\u001b[0m \u001b[0;36m1\u001b[0m\u001b[0;34m,\u001b[0m \u001b[0mlen\u001b[0m\u001b[0;34m(\u001b[0m\u001b[0mX\u001b[0m\u001b[0;34m)\u001b[0m\u001b[0;34m)\u001b[0m\u001b[0;34m\u001b[0m\u001b[0;34m\u001b[0m\u001b[0m\n\u001b[1;32m      3\u001b[0m     \u001b[0;31m#print(X)\u001b[0m\u001b[0;34m\u001b[0m\u001b[0;34m\u001b[0m\u001b[0;34m\u001b[0m\u001b[0m\n\u001b[0;32m----> 4\u001b[0;31m     \u001b[0myhat\u001b[0m \u001b[0;34m=\u001b[0m \u001b[0mmodel\u001b[0m\u001b[0;34m.\u001b[0m\u001b[0mpredict\u001b[0m\u001b[0;34m(\u001b[0m\u001b[0mX\u001b[0m\u001b[0;34m,\u001b[0m \u001b[0mbatch_size\u001b[0m\u001b[0;34m=\u001b[0m\u001b[0;36m1\u001b[0m\u001b[0;34m)\u001b[0m\u001b[0;34m\u001b[0m\u001b[0;34m\u001b[0m\u001b[0m\n\u001b[0m\u001b[1;32m      5\u001b[0m     \u001b[0;32mreturn\u001b[0m \u001b[0myhat\u001b[0m\u001b[0;34m[\u001b[0m\u001b[0;36m0\u001b[0m\u001b[0;34m,\u001b[0m\u001b[0;36m0\u001b[0m\u001b[0;34m]\u001b[0m\u001b[0;34m\u001b[0m\u001b[0;34m\u001b[0m\u001b[0m\n",
            "\u001b[0;32m/usr/local/lib/python3.6/dist-packages/keras/engine/training.py\u001b[0m in \u001b[0;36mpredict\u001b[0;34m(self, x, batch_size, verbose, steps, callbacks, max_queue_size, workers, use_multiprocessing)\u001b[0m\n\u001b[1;32m   1460\u001b[0m                                             \u001b[0mverbose\u001b[0m\u001b[0;34m=\u001b[0m\u001b[0mverbose\u001b[0m\u001b[0;34m,\u001b[0m\u001b[0;34m\u001b[0m\u001b[0;34m\u001b[0m\u001b[0m\n\u001b[1;32m   1461\u001b[0m                                             \u001b[0msteps\u001b[0m\u001b[0;34m=\u001b[0m\u001b[0msteps\u001b[0m\u001b[0;34m,\u001b[0m\u001b[0;34m\u001b[0m\u001b[0;34m\u001b[0m\u001b[0m\n\u001b[0;32m-> 1462\u001b[0;31m                                             callbacks=callbacks)\n\u001b[0m\u001b[1;32m   1463\u001b[0m \u001b[0;34m\u001b[0m\u001b[0m\n\u001b[1;32m   1464\u001b[0m     def train_on_batch(self, x, y,\n",
            "\u001b[0;32m/usr/local/lib/python3.6/dist-packages/keras/engine/training_arrays.py\u001b[0m in \u001b[0;36mpredict_loop\u001b[0;34m(model, f, ins, batch_size, verbose, steps, callbacks)\u001b[0m\n\u001b[1;32m    322\u001b[0m             \u001b[0mbatch_logs\u001b[0m \u001b[0;34m=\u001b[0m \u001b[0;34m{\u001b[0m\u001b[0;34m'batch'\u001b[0m\u001b[0;34m:\u001b[0m \u001b[0mbatch_index\u001b[0m\u001b[0;34m,\u001b[0m \u001b[0;34m'size'\u001b[0m\u001b[0;34m:\u001b[0m \u001b[0mlen\u001b[0m\u001b[0;34m(\u001b[0m\u001b[0mbatch_ids\u001b[0m\u001b[0;34m)\u001b[0m\u001b[0;34m}\u001b[0m\u001b[0;34m\u001b[0m\u001b[0;34m\u001b[0m\u001b[0m\n\u001b[1;32m    323\u001b[0m             \u001b[0mcallbacks\u001b[0m\u001b[0;34m.\u001b[0m\u001b[0m_call_batch_hook\u001b[0m\u001b[0;34m(\u001b[0m\u001b[0;34m'predict'\u001b[0m\u001b[0;34m,\u001b[0m \u001b[0;34m'begin'\u001b[0m\u001b[0;34m,\u001b[0m \u001b[0mbatch_index\u001b[0m\u001b[0;34m,\u001b[0m \u001b[0mbatch_logs\u001b[0m\u001b[0;34m)\u001b[0m\u001b[0;34m\u001b[0m\u001b[0;34m\u001b[0m\u001b[0m\n\u001b[0;32m--> 324\u001b[0;31m             \u001b[0mbatch_outs\u001b[0m \u001b[0;34m=\u001b[0m \u001b[0mf\u001b[0m\u001b[0;34m(\u001b[0m\u001b[0mins_batch\u001b[0m\u001b[0;34m)\u001b[0m\u001b[0;34m\u001b[0m\u001b[0;34m\u001b[0m\u001b[0m\n\u001b[0m\u001b[1;32m    325\u001b[0m             \u001b[0mbatch_outs\u001b[0m \u001b[0;34m=\u001b[0m \u001b[0mto_list\u001b[0m\u001b[0;34m(\u001b[0m\u001b[0mbatch_outs\u001b[0m\u001b[0;34m)\u001b[0m\u001b[0;34m\u001b[0m\u001b[0;34m\u001b[0m\u001b[0m\n\u001b[1;32m    326\u001b[0m             \u001b[0;32mif\u001b[0m \u001b[0mbatch_index\u001b[0m \u001b[0;34m==\u001b[0m \u001b[0;36m0\u001b[0m\u001b[0;34m:\u001b[0m\u001b[0;34m\u001b[0m\u001b[0;34m\u001b[0m\u001b[0m\n",
            "\u001b[0;32m/usr/local/lib/python3.6/dist-packages/tensorflow/python/keras/backend.py\u001b[0m in \u001b[0;36m__call__\u001b[0;34m(self, inputs)\u001b[0m\n\u001b[1;32m   3796\u001b[0m     \u001b[0;31m# safe to reuse the underlying buffer without checking. In such a case the\u001b[0m\u001b[0;34m\u001b[0m\u001b[0;34m\u001b[0m\u001b[0;34m\u001b[0m\u001b[0m\n\u001b[1;32m   3797\u001b[0m     \u001b[0;31m# private numpy conversion method is preferred to guarantee performance.\u001b[0m\u001b[0;34m\u001b[0m\u001b[0;34m\u001b[0m\u001b[0;34m\u001b[0m\u001b[0m\n\u001b[0;32m-> 3798\u001b[0;31m     return nest.pack_sequence_as(\n\u001b[0m\u001b[1;32m   3799\u001b[0m         \u001b[0mself\u001b[0m\u001b[0;34m.\u001b[0m\u001b[0m_outputs_structure\u001b[0m\u001b[0;34m,\u001b[0m\u001b[0;34m\u001b[0m\u001b[0;34m\u001b[0m\u001b[0m\n\u001b[1;32m   3800\u001b[0m         \u001b[0;34m[\u001b[0m\u001b[0mx\u001b[0m\u001b[0;34m.\u001b[0m\u001b[0m_numpy\u001b[0m\u001b[0;34m(\u001b[0m\u001b[0;34m)\u001b[0m \u001b[0;32mfor\u001b[0m \u001b[0mx\u001b[0m \u001b[0;32min\u001b[0m \u001b[0moutputs\u001b[0m\u001b[0;34m]\u001b[0m\u001b[0;34m,\u001b[0m  \u001b[0;31m# pylint: disable=protected-access\u001b[0m\u001b[0;34m\u001b[0m\u001b[0;34m\u001b[0m\u001b[0m\n",
            "\u001b[0;31mKeyboardInterrupt\u001b[0m: "
          ]
        }
      ]
    },
    {
      "cell_type": "code",
      "metadata": {
        "id": "dwWZfkNe79hz",
        "colab_type": "code",
        "colab": {
          "base_uri": "https://localhost:8080/",
          "height": 34
        },
        "outputId": "b371f038-d4f5-4e6b-de60-290ede9abbf7"
      },
      "source": [
        "expectations = np.array(expectations)\n",
        "predictions = np.array(predictions)\n",
        "print(\"Mean Absolute Percent Error: \", (np.mean(np.abs((expectations - predictions) / expectations.mean()))*100))"
      ],
      "execution_count": null,
      "outputs": [
        {
          "output_type": "stream",
          "text": [
            "Mean Absolute Percent Error:  47.85676992911516\n"
          ],
          "name": "stdout"
        }
      ]
    },
    {
      "cell_type": "code",
      "metadata": {
        "id": "cPPDZPiz8BiD",
        "colab_type": "code",
        "colab": {
          "base_uri": "https://localhost:8080/",
          "height": 497
        },
        "outputId": "2b2dbd91-fb38-4f2b-d4f9-187be913ae65"
      },
      "source": [
        "# line plot of observed vs predicted\n",
        "fig = pyplot.figure(figsize=(20,8))\n",
        "pyplot.plot(expectations[0:1000], label=\"True\")\n",
        "pyplot.plot(predictions[0:1000], label=\"Predicted\")\n",
        "pyplot.legend(loc='upper right')\n",
        "pyplot.xlabel(\"Number of hours\")\n",
        "pyplot.ylabel(\"wind speed\")\n",
        "pyplot.show()"
      ],
      "execution_count": null,
      "outputs": [
        {
          "output_type": "display_data",
          "data": {
            "image/png": "[encoded data removed]",
            "text/plain": [
              "<Figure size 1440x576 with 1 Axes>"
            ]
          },
          "metadata": {
            "tags": [],
            "needs_background": "light"
          }
        }
      ]
    },
    {
      "cell_type": "code",
      "metadata": {
        "id": "_9EHPGkn-ERj",
        "colab_type": "code",
        "colab": {}
      },
      "source": [
        "import pickle "
      ],
      "execution_count": null,
      "outputs": []
    },
    {
      "cell_type": "code",
      "metadata": {
        "id": "7DQjuT6Y29En",
        "colab_type": "code",
        "colab": {}
      },
      "source": [
        "Pkl_Filename = \"Pickle_RL1_Model.pkl\"  \n",
        "\n",
        "with open(Pkl_Filename, 'wb') as file:  \n",
        "    pickle.dump(lstm_model, file)"
      ],
      "execution_count": null,
      "outputs": []
    },
    {
      "cell_type": "code",
      "metadata": {
        "id": "jjGlnvde2_TA",
        "colab_type": "code",
        "colab": {}
      },
      "source": [
        "with open(Pkl_Filename, 'rb') as file:  \n",
        "    Pickled_LR1_Model = pickle.load(file)\n",
        "\n",
        "Pickled_LR_Model"
      ],
      "execution_count": null,
      "outputs": []
    },
    {
      "cell_type": "code",
      "metadata": {
        "id": "OGVXQMlM3DoS",
        "colab_type": "code",
        "colab": {}
      },
      "source": [
        "score = Pickled_LR_Model.score(train, test)  \n",
        "# Print the Score\n",
        "print(\"Test score: {0:.2f} %\".format(100 * score))  \n",
        "\n",
        "# Predict the Labels using the reloaded Model\n",
        "Ypredict = Pickled_LR_Model.predict(test)  \n",
        "\n",
        "Ypredict"
      ],
      "execution_count": null,
      "outputs": []
    },
    {
      "cell_type": "code",
      "metadata": {
        "id": "LgUfot0k3Lmh",
        "colab_type": "code",
        "colab": {}
      },
      "source": [
        ""
      ],
      "execution_count": null,
      "outputs": []
    }
  ]
}